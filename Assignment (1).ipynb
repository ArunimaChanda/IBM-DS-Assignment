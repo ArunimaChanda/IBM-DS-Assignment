{
  "metadata": {
    "kernelspec": {
      "name": "python",
      "display_name": "Python (Pyodide)",
      "language": "python"
    },
    "language_info": {
      "codemirror_mode": {
        "name": "python",
        "version": 3
      },
      "file_extension": ".py",
      "mimetype": "text/x-python",
      "name": "python",
      "nbconvert_exporter": "python",
      "pygments_lexer": "ipython3",
      "version": "3.8"
    }
  },
  "nbformat_minor": 4,
  "nbformat": 4,
  "cells": [
    {
      "cell_type": "markdown",
      "source": "#Data Science Tools and Ecosystem",
      "metadata": {}
    },
    {
      "cell_type": "markdown",
      "source": "##In this notebook, Data Science Tools and Ecosystem are summarized.",
      "metadata": {}
    },
    {
      "cell_type": "markdown",
      "source": "###Data Science Languages",
      "metadata": {}
    },
    {
      "cell_type": "code",
      "source": "ordered_list1=[\"Python\",\"R\",\"Scala\",\"Julia\",\"SQL\"]\nprint(ordered_list1)",
      "metadata": {
        "trusted": true
      },
      "outputs": [
        {
          "name": "stdout",
          "text": "['Python', 'R', 'Scala', 'Julia', 'SQL']\n",
          "output_type": "stream"
        }
      ],
      "execution_count": 20
    },
    {
      "cell_type": "markdown",
      "source": "###Data Science Libraries.",
      "metadata": {}
    },
    {
      "cell_type": "code",
      "source": "ordered_list2=[\"numpy\",\"pandas\",\"matplotlib\"]\nprint(ordered_list2)",
      "metadata": {
        "trusted": true,
        "scrolled": true
      },
      "outputs": [
        {
          "name": "stdout",
          "text": "['numpy', 'pandas', 'matplotlib']\n",
          "output_type": "stream"
        }
      ],
      "execution_count": 22
    },
    {
      "cell_type": "markdown",
      "source": "###Data Science Tools",
      "metadata": {}
    },
    {
      "cell_type": "code",
      "source": "ordered_list3=[\"Jupyter\",\"Hadoop\",\"Spark\",\"Python\"]\nprint(ordered_list3)",
      "metadata": {
        "trusted": true
      },
      "outputs": [
        {
          "name": "stdout",
          "text": "['Jupyter', 'Hadoop', 'Spark', 'Python']\n",
          "output_type": "stream"
        }
      ],
      "execution_count": 23
    },
    {
      "cell_type": "markdown",
      "source": "###Below are a few examples of evaluating arithmetic expressions in Python",
      "metadata": {}
    },
    {
      "cell_type": "code",
      "source": "#multiply and add numbers\na=3\nb=4\nc=5\nd=(a*b)+c\nprint(d)",
      "metadata": {
        "trusted": true
      },
      "outputs": [
        {
          "name": "stdout",
          "text": "17\n",
          "output_type": "stream"
        }
      ],
      "execution_count": 25
    },
    {
      "cell_type": "code",
      "source": "#convert minutes to hours\nm=200\nh=(m/60)\nprint(h)",
      "metadata": {
        "trusted": true
      },
      "outputs": [
        {
          "name": "stdout",
          "text": "3.3333333333333335\n",
          "output_type": "stream"
        }
      ],
      "execution_count": 26
    },
    {
      "cell_type": "markdown",
      "source": "#OBJECTIVES",
      "metadata": {}
    },
    {
      "cell_type": "code",
      "source": "unordered_list=[\"Python\",\"R\",\"Scala\"]\nprint(unordered_list)",
      "metadata": {
        "trusted": true
      },
      "outputs": [
        {
          "name": "stdout",
          "text": "['Python', 'R', 'Scala']\n",
          "output_type": "stream"
        }
      ],
      "execution_count": 1
    },
    {
      "cell_type": "markdown",
      "source": "##Author",
      "metadata": {}
    },
    {
      "cell_type": "markdown",
      "source": "Arunima Chanda",
      "metadata": {}
    },
    {
      "cell_type": "code",
      "source": "",
      "metadata": {
        "trusted": true
      },
      "outputs": [],
      "execution_count": null
    }
  ]
}